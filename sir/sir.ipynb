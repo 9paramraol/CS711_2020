{
 "cells": [
  {
   "cell_type": "code",
   "execution_count": 1,
   "metadata": {},
   "outputs": [],
   "source": [
    "import random\n",
    "from numpy import random\n",
    "import numpy as np\n",
    "import math\n",
    "import matplotlib.pyplot as plt\n",
    "import matplotlib.pyplot as plt\n",
    "import time"
   ]
  },
  {
   "cell_type": "code",
   "execution_count": 2,
   "metadata": {},
   "outputs": [],
   "source": [
    "#getting distinct N points\n",
    "# Same as prvios parts\n",
    "def N_random_points(N,End):\n",
    "    ans = []\n",
    "    for i in range(0,int(N)):\n",
    "        tempx = random.uniform(0, End)\n",
    "        tempy = random.uniform(0, End)\n",
    "        ans.append((tempx,tempy))\n",
    "    return ans\n",
    "\n",
    "def Union(lst1, lst2): \n",
    "    final_list = list(set(lst1) | set(lst2)) \n",
    "    return final_list "
   ]
  },
  {
   "cell_type": "code",
   "execution_count": 34,
   "metadata": {},
   "outputs": [],
   "source": [
    "#S I R count for next day\n",
    "#Same as previous part Just uncooment the change part to get 80% people that came in contact infected\n",
    "def SIR_NEXTday(SIR,gridSize,proximity):\n",
    "    s=SIR[0]\n",
    "    inf=SIR[1]\n",
    "    hr=8\n",
    "    lstS=[]\n",
    "    for i in range(hr):\n",
    "        lstS.append(N_random_points(s,gridSize))\n",
    "    lstI=[]\n",
    "    for i in range(hr):\n",
    "        lstI.append(N_random_points(inf,gridSize))\n",
    "    PosOfNewlyInfected=[]\n",
    "    for i in range(hr):\n",
    "        Infected=lstI[i]\n",
    "        Succeptible=lstS[i]\n",
    "        for j in Infected:\n",
    "            x = [k for k in range(len(Succeptible)) if math.sqrt((Succeptible[k][0]-j[0])**2+(Succeptible[k][1]-j[1])**2)<proximity]\n",
    "            PosOfNewlyInfected=Union(PosOfNewlyInfected,x)\n",
    "    newInfected = len(PosOfNewlyInfected)\n",
    "    newSucceptible = s-newInfected\n",
    "#     newInfected = len(PosOfNewlyInfected)\n",
    "#     change = int(0.8*newInfected)\n",
    "#     rem=int(0.2*newInfected)\n",
    "#     newInfected=change\n",
    "#     newSucceptible = s-newInfected\n",
    "    return newSucceptible,newInfected"
   ]
  },
  {
   "cell_type": "code",
   "execution_count": 4,
   "metadata": {},
   "outputs": [],
   "source": [
    "# new parameter 'r_to_s' added basically it is % of people that go bact to Suceptible from recovered\n",
    "def main_simuate_fn(nod=10,nop=1000,perInf=0.05,gs=1000,pd=5,p=0.5,r_to_s=0.1):\n",
    "    a = nop*p\n",
    "    simu_list = []; simu_list.append([a*(1-perInf),a*perInf,0,0])\n",
    "    ans_list = []; ans_list.append([a*(1-perInf),a*perInf,0,0])\n",
    "    work_hos = []; work_hos.append([a,0])\n",
    "    prev = simu_list[-1]\n",
    "    curr_i = a*perInf; curr_s = a*(1-perInf); curr_r = 0; curr_h = 0\n",
    "    for day in range(1,nod):\n",
    "        if(day>=5):\n",
    "            curr_i -= simu_list[day-5][1]\n",
    "            curr_h += simu_list[day-5][1]\n",
    "        if(day>=20):\n",
    "            curr_s += int(r_to_s*simu_list[day-20][1])\n",
    "            curr_r += simu_list[day-20][1] - int(r_to_s*simu_list[day-20][1])\n",
    "            curr_h -= simu_list[day-20][1]\n",
    "        curr_s,newi = SIR_NEXTday([curr_s,curr_i],gs,pd)\n",
    "        curr_i += newi\n",
    "        work_hos.append([curr_s+curr_i+curr_r,curr_h])\n",
    "        simu_list.append([curr_s,newi,curr_h,curr_r])\n",
    "        ans_list.append([curr_s,curr_i,curr_h,curr_r])\n",
    "    return ans_list"
   ]
  },
  {
   "cell_type": "code",
   "execution_count": 11,
   "metadata": {},
   "outputs": [
    {
     "data": {
      "text/plain": [
       "[[160.0, 40.0, 0, 0],\n",
       " [145.0, 55.0, 0, 0],\n",
       " [129.0, 71.0, 0, 0],\n",
       " [105.0, 95.0, 0, 0],\n",
       " [83.0, 117.0, 0, 0],\n",
       " [70.0, 90.0, 40.0, 0],\n",
       " [57.0, 88.0, 55.0, 0],\n",
       " [50.0, 79.0, 71.0, 0],\n",
       " [46.0, 59.0, 95.0, 0],\n",
       " [43.0, 40.0, 117.0, 0],\n",
       " [39.0, 31.0, 130.0, 0],\n",
       " [38.0, 19.0, 143.0, 0],\n",
       " [37.0, 13.0, 150.0, 0],\n",
       " [36.0, 10.0, 154.0, 0],\n",
       " [33.0, 10.0, 157.0, 0],\n",
       " [31.0, 8.0, 161.0, 0],\n",
       " [31.0, 7.0, 162.0, 0],\n",
       " [31.0, 6.0, 163.0, 0],\n",
       " [30.0, 6.0, 164.0, 0],\n",
       " [30.0, 3.0, 167.0, 0],\n",
       " [34.0, 1.0, 129.0, 36.0],\n",
       " [35.0, 1.0, 114.0, 50.0],\n",
       " [36.0, 1.0, 98.0, 65.0],\n",
       " [38.0, 0.0, 75.0, 87.0],\n",
       " [40.0, 0.0, 53.0, 107.0]]"
      ]
     },
     "execution_count": 11,
     "metadata": {},
     "output_type": "execute_result"
    }
   ],
   "source": [
    "main_simuate_fn(nod=25,nop=1000,perInf=0.2,gs=500,pd=5,p=0.2)"
   ]
  },
  {
   "cell_type": "code",
   "execution_count": 23,
   "metadata": {},
   "outputs": [],
   "source": [
    "def utility_sir(nod,nop,perInf,gs,pd,p,alpha, beta, S_s,S_i,S_r,S_h,H_s,H_i,r_to_s):\n",
    "    everyday =[]\n",
    "    day_eco =[]\n",
    "    day_health =[]\n",
    "    model = main_simuate_fn(nod,nop,perInf,gs,pd,p,r_to_s)\n",
    "    for ele in model:\n",
    "        economy = alpha*((ele[0]/nop)*ele[0]*S_s + (ele[1]/nop)*ele[1]*S_i + (ele[3]/nop)*ele[3]*S_r + (1-p)*(1-p)*nop*S_h)\n",
    "        health = beta*(-(ele[0]/nop)*ele[0]*H_s-(ele[2]/nop)*ele[2]*H_i)\n",
    "        day_eco.append(economy)\n",
    "        day_health.append(health)\n",
    "        everyday.append(economy+health)\n",
    "    return model,everyday,day_eco,day_health"
   ]
  },
  {
   "cell_type": "code",
   "execution_count": 24,
   "metadata": {},
   "outputs": [],
   "source": [
    "nod = 25; nop = 1000\n",
    "perInf = 0.2 ; gs=500 ; pd=5\n",
    "p=1; alpha=1; beta=1\n",
    "S_s = 360; S_i = 360; S_r = 400\n",
    "S_h = 36; H_s = 180; H_i = 500\n",
    "r_to_s  = 0.1\n",
    "\n",
    "model,every_day,day_eco,day_health = utility_sir(nod,nop,perInf,gs,pd,p,alpha, beta, S_s,S_i,S_r,S_h,H_s,H_i,r_to_s)"
   ]
  },
  {
   "cell_type": "code",
   "execution_count": 32,
   "metadata": {},
   "outputs": [],
   "source": [
    "def get_prob_list(model,day_eco,day_health,num_h,wage_at_home):\n",
    "    p_list = []\n",
    "    sum_wage_at_home = num_h*wage_at_home\n",
    "    avg_wage_at_home = wage_at_home\n",
    "    for i in range(0,len(model)):\n",
    "        num_s = model[i][0]; num_i1 = model[i][1]\n",
    "        num_r = model[i][3]; num_i2 = model[i][3]\n",
    "        try:\n",
    "            avg_money_out = (day_eco[i] - sum_wage_at_home)/(num_s+num_i1+num_r)\n",
    "        except:\n",
    "            avg_money_out = 0\n",
    "        try:\n",
    "            avg_health_out = day_health[i]/(num_s+num_i2)\n",
    "        except:\n",
    "            avg_health_out = 0\n",
    "        curr_p = wage_at_home\n",
    "        curr_p /= (avg_health_out-avg_money_out+wage_at_home)\n",
    "        p_list.append(curr_p)\n",
    "    return p_list\n"
   ]
  },
  {
   "cell_type": "code",
   "execution_count": 33,
   "metadata": {},
   "outputs": [
    {
     "data": {
      "text/plain": [
       "[-0.10204081632653061,\n",
       " -0.15625781289064453,\n",
       " -0.1358920908085308,\n",
       " -0.11315519687872704,\n",
       " -0.1112963577153974,\n",
       " -0.14285714285714285,\n",
       " -0.2645502645502646,\n",
       " -3.03030303030303,\n",
       " 1.1235955056179776,\n",
       " 1.0101010101010102,\n",
       " 1.0,\n",
       " 1.0,\n",
       " 1.0,\n",
       " 1.0,\n",
       " 1.0,\n",
       " 1.0,\n",
       " 1.0,\n",
       " 1.0,\n",
       " 1.0,\n",
       " 1.0,\n",
       " -0.022087515645323585,\n",
       " -0.10143025730641136,\n",
       " -0.13834447774959652,\n",
       " -0.12397149171019865,\n",
       " -0.12260633996552134]"
      ]
     },
     "execution_count": 33,
     "metadata": {},
     "output_type": "execute_result"
    }
   ],
   "source": [
    "get_prob_list(model,day_eco,day_health,num_h=int((1-p)*nop),wage_at_home=S_h)"
   ]
  },
  {
   "cell_type": "code",
   "execution_count": null,
   "metadata": {},
   "outputs": [],
   "source": []
  }
 ],
 "metadata": {
  "kernelspec": {
   "display_name": "Python 3",
   "language": "python",
   "name": "python3"
  },
  "language_info": {
   "codemirror_mode": {
    "name": "ipython",
    "version": 3
   },
   "file_extension": ".py",
   "mimetype": "text/x-python",
   "name": "python",
   "nbconvert_exporter": "python",
   "pygments_lexer": "ipython3",
   "version": "3.5.2"
  }
 },
 "nbformat": 4,
 "nbformat_minor": 4
}
